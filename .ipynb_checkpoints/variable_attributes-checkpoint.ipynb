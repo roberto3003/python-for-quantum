{
 "cells": [
  {
   "cell_type": "markdown",
   "id": "c0ad1731",
   "metadata": {},
   "source": [
    "## String methods"
   ]
  },
  {
   "cell_type": "code",
   "execution_count": 2,
   "id": "2249295e",
   "metadata": {},
   "outputs": [],
   "source": [
    "my_name = \"roberto\""
   ]
  },
  {
   "cell_type": "code",
   "execution_count": 6,
   "id": "4b5b8996",
   "metadata": {},
   "outputs": [],
   "source": [
    "my_name_capitaliezed = my_name.capitalize()"
   ]
  },
  {
   "cell_type": "code",
   "execution_count": 7,
   "id": "20637364",
   "metadata": {},
   "outputs": [
    {
     "data": {
      "text/plain": [
       "'Roberto'"
      ]
     },
     "execution_count": 7,
     "metadata": {},
     "output_type": "execute_result"
    }
   ],
   "source": [
    "my_name_capitaliezed"
   ]
  },
  {
   "cell_type": "code",
   "execution_count": 9,
   "id": "f6eb2e57",
   "metadata": {},
   "outputs": [],
   "source": [
    "my_name = \"Bobby Uberthinker\""
   ]
  },
  {
   "cell_type": "code",
   "execution_count": 10,
   "id": "9e07ca14",
   "metadata": {},
   "outputs": [
    {
     "data": {
      "text/plain": [
       "['Bobby', 'Uberthinker']"
      ]
     },
     "execution_count": 10,
     "metadata": {},
     "output_type": "execute_result"
    }
   ],
   "source": [
    "my_name.split() ## shift+tab to see the documentation"
   ]
  },
  {
   "cell_type": "code",
   "execution_count": 18,
   "id": "ea7665e0",
   "metadata": {},
   "outputs": [
    {
     "data": {
      "text/plain": [
       "'james james james james '"
      ]
     },
     "execution_count": 18,
     "metadata": {},
     "output_type": "execute_result"
    }
   ],
   "source": [
    "\"james \" * 2 * 2"
   ]
  },
  {
   "cell_type": "code",
   "execution_count": 20,
   "id": "0309cbf1",
   "metadata": {},
   "outputs": [
    {
     "data": {
      "text/plain": [
       "'james5'"
      ]
     },
     "execution_count": 20,
     "metadata": {},
     "output_type": "execute_result"
    }
   ],
   "source": [
    "\"james\" + \"5\""
   ]
  },
  {
   "cell_type": "code",
   "execution_count": 22,
   "id": "87d2faa5",
   "metadata": {},
   "outputs": [],
   "source": [
    "my_name = \"Bob\""
   ]
  },
  {
   "cell_type": "code",
   "execution_count": 23,
   "id": "d693fa72",
   "metadata": {},
   "outputs": [],
   "source": [
    "my_surname = \"Nobody\""
   ]
  },
  {
   "cell_type": "code",
   "execution_count": 24,
   "id": "dcbff29d",
   "metadata": {},
   "outputs": [],
   "source": [
    "my_full_name = my_name + ' ' + my_surname"
   ]
  },
  {
   "cell_type": "code",
   "execution_count": 25,
   "id": "ff1c85b3",
   "metadata": {},
   "outputs": [
    {
     "name": "stdout",
     "output_type": "stream",
     "text": [
      "Bob Nobody\n"
     ]
    }
   ],
   "source": [
    "print(my_full_name)"
   ]
  },
  {
   "cell_type": "code",
   "execution_count": null,
   "id": "7e8ae165",
   "metadata": {},
   "outputs": [],
   "source": []
  }
 ],
 "metadata": {
  "kernelspec": {
   "display_name": "Python 3",
   "language": "python",
   "name": "python3"
  },
  "language_info": {
   "codemirror_mode": {
    "name": "ipython",
    "version": 3
   },
   "file_extension": ".py",
   "mimetype": "text/x-python",
   "name": "python",
   "nbconvert_exporter": "python",
   "pygments_lexer": "ipython3",
   "version": "3.8.8"
  }
 },
 "nbformat": 4,
 "nbformat_minor": 5
}
