{
 "cells": [
  {
   "cell_type": "markdown",
   "id": "f0041ea7",
   "metadata": {},
   "source": [
    "## class"
   ]
  },
  {
   "cell_type": "code",
   "execution_count": 1,
   "id": "068c4163",
   "metadata": {},
   "outputs": [],
   "source": [
    "my_list = list() # list is a class"
   ]
  },
  {
   "cell_type": "markdown",
   "id": "294e4d5f",
   "metadata": {},
   "source": [
    "## instance & atributes"
   ]
  },
  {
   "cell_type": "code",
   "execution_count": 2,
   "id": "004e590a",
   "metadata": {},
   "outputs": [],
   "source": [
    "class Musician():\n",
    "    \n",
    "    job = \"musician\"\n",
    "    \n",
    "    def __init__(self,name,age,instrument):\n",
    "        self.name = name\n",
    "        self.age = age\n",
    "        self.instrument = instrument\n",
    "    \n",
    "    # method\n",
    "    def sing(self):\n",
    "        print(f\"We are the champions! {self.instrument}\")"
   ]
  },
  {
   "cell_type": "code",
   "execution_count": 3,
   "id": "4e32436a",
   "metadata": {},
   "outputs": [],
   "source": [
    "my_musician = Musician(\"James\", 50, \"guitar\")"
   ]
  },
  {
   "cell_type": "code",
   "execution_count": 4,
   "id": "a2f76aa2",
   "metadata": {},
   "outputs": [
    {
     "data": {
      "text/plain": [
       "50"
      ]
     },
     "execution_count": 4,
     "metadata": {},
     "output_type": "execute_result"
    }
   ],
   "source": [
    "my_musician.age"
   ]
  },
  {
   "cell_type": "code",
   "execution_count": 5,
   "id": "40eb56c8",
   "metadata": {},
   "outputs": [
    {
     "data": {
      "text/plain": [
       "'James'"
      ]
     },
     "execution_count": 5,
     "metadata": {},
     "output_type": "execute_result"
    }
   ],
   "source": [
    "my_musician.name"
   ]
  },
  {
   "cell_type": "code",
   "execution_count": 6,
   "id": "a28f1ee6",
   "metadata": {},
   "outputs": [],
   "source": [
    "my_musician.name = \"Lars\""
   ]
  },
  {
   "cell_type": "code",
   "execution_count": 7,
   "id": "331a4a9b",
   "metadata": {},
   "outputs": [
    {
     "data": {
      "text/plain": [
       "'Lars'"
      ]
     },
     "execution_count": 7,
     "metadata": {},
     "output_type": "execute_result"
    }
   ],
   "source": [
    "my_musician.name"
   ]
  },
  {
   "cell_type": "code",
   "execution_count": 8,
   "id": "a74714de",
   "metadata": {},
   "outputs": [
    {
     "data": {
      "text/plain": [
       "'guitar'"
      ]
     },
     "execution_count": 8,
     "metadata": {},
     "output_type": "execute_result"
    }
   ],
   "source": [
    "my_musician.instrument"
   ]
  },
  {
   "cell_type": "code",
   "execution_count": 9,
   "id": "fd2f1117",
   "metadata": {},
   "outputs": [
    {
     "data": {
      "text/plain": [
       "'musician'"
      ]
     },
     "execution_count": 9,
     "metadata": {},
     "output_type": "execute_result"
    }
   ],
   "source": [
    "my_musician.job"
   ]
  },
  {
   "cell_type": "code",
   "execution_count": 10,
   "id": "4ab5a92b",
   "metadata": {},
   "outputs": [
    {
     "name": "stdout",
     "output_type": "stream",
     "text": [
      "We are the champions! guitar\n"
     ]
    }
   ],
   "source": [
    "my_musician.sing()"
   ]
  },
  {
   "cell_type": "code",
   "execution_count": 11,
   "id": "462d2677",
   "metadata": {},
   "outputs": [],
   "source": [
    "class DogYears():\n",
    "    year_factor = 7\n",
    "    def __init__(self, age=1):\n",
    "        self.age = age\n",
    "        self.name = \"Bar\"\n",
    "    def calculation(self):\n",
    "        if self.age == 0:\n",
    "            return 0\n",
    "        elif self.age < 0:\n",
    "            return \"Age cannot be a negative number\"\n",
    "        else:\n",
    "            return (self.age - 1) * self.year_factor + 1"
   ]
  },
  {
   "cell_type": "code",
   "execution_count": 12,
   "id": "8391ccd2",
   "metadata": {},
   "outputs": [],
   "source": [
    "my_dog = DogYears(3)"
   ]
  },
  {
   "cell_type": "code",
   "execution_count": 13,
   "id": "358cbc1b",
   "metadata": {},
   "outputs": [
    {
     "data": {
      "text/plain": [
       "15"
      ]
     },
     "execution_count": 13,
     "metadata": {},
     "output_type": "execute_result"
    }
   ],
   "source": [
    "my_dog.calculation()"
   ]
  },
  {
   "cell_type": "code",
   "execution_count": 14,
   "id": "f455550f",
   "metadata": {},
   "outputs": [
    {
     "data": {
      "text/plain": [
       "'Bar'"
      ]
     },
     "execution_count": 14,
     "metadata": {},
     "output_type": "execute_result"
    }
   ],
   "source": [
    "my_dog.name"
   ]
  },
  {
   "cell_type": "code",
   "execution_count": 15,
   "id": "59b1edbb",
   "metadata": {},
   "outputs": [
    {
     "ename": "AttributeError",
     "evalue": "'DogYears' object has no attribute 'converted_age'",
     "output_type": "error",
     "traceback": [
      "\u001b[0;31m---------------------------------------------------------------------------\u001b[0m",
      "\u001b[0;31mAttributeError\u001b[0m                            Traceback (most recent call last)",
      "\u001b[0;32m<ipython-input-15-15f2202b373d>\u001b[0m in \u001b[0;36m<module>\u001b[0;34m\u001b[0m\n\u001b[0;32m----> 1\u001b[0;31m \u001b[0mmy_dog\u001b[0m\u001b[0;34m.\u001b[0m\u001b[0mconverted_age\u001b[0m\u001b[0;34m\u001b[0m\u001b[0;34m\u001b[0m\u001b[0m\n\u001b[0m",
      "\u001b[0;31mAttributeError\u001b[0m: 'DogYears' object has no attribute 'converted_age'"
     ]
    }
   ],
   "source": [
    "my_dog.converted_age"
   ]
  },
  {
   "cell_type": "markdown",
   "id": "7987e8a8",
   "metadata": {},
   "source": [
    "## inheritance"
   ]
  },
  {
   "cell_type": "code",
   "execution_count": null,
   "id": "ae5fb70a",
   "metadata": {},
   "outputs": [],
   "source": [
    "class Class1():\n",
    "    def __init__(self):\n",
    "        print(\"Class 1 created\")\n",
    "    def method_1(self):\n",
    "        print(\"method 1\")\n",
    "    def method_2(self):\n",
    "        print(\"method 2\")"
   ]
  },
  {
   "cell_type": "code",
   "execution_count": null,
   "id": "d6e277a7",
   "metadata": {},
   "outputs": [],
   "source": [
    "my_instance = Class1()"
   ]
  },
  {
   "cell_type": "code",
   "execution_count": null,
   "id": "35e0c07e",
   "metadata": {},
   "outputs": [],
   "source": [
    "my_instance.method_1()"
   ]
  },
  {
   "cell_type": "code",
   "execution_count": null,
   "id": "6a5c9832",
   "metadata": {},
   "outputs": [],
   "source": [
    "my_instance.method_2()"
   ]
  },
  {
   "cell_type": "code",
   "execution_count": null,
   "id": "b97e6ac4",
   "metadata": {},
   "outputs": [],
   "source": [
    "class Class2(Class1):\n",
    "    def __init__(self):\n",
    "        Class1.__init__(self)\n",
    "        print(\"Class 2 created\")\n",
    "    def method_3(self):\n",
    "        print(\"method 3\")\n",
    "        "
   ]
  },
  {
   "cell_type": "code",
   "execution_count": null,
   "id": "038fbf59",
   "metadata": {},
   "outputs": [],
   "source": [
    "My_instance_2 = Class2()"
   ]
  },
  {
   "cell_type": "code",
   "execution_count": null,
   "id": "fce854eb",
   "metadata": {},
   "outputs": [],
   "source": [
    "My_instance_2.method_2()"
   ]
  },
  {
   "cell_type": "code",
   "execution_count": null,
   "id": "0cd4356a",
   "metadata": {},
   "outputs": [],
   "source": [
    "My_instance_2.method_3()"
   ]
  },
  {
   "cell_type": "markdown",
   "id": "5146dbc3",
   "metadata": {},
   "source": [
    "## special methods"
   ]
  },
  {
   "cell_type": "code",
   "execution_count": 17,
   "id": "647ed964",
   "metadata": {},
   "outputs": [],
   "source": [
    "class Fruits():\n",
    "    def __init__(self, name,calories):\n",
    "        self.name = name\n",
    "        self.calories = calories\n",
    "    def __str__(self):\n",
    "        return f\"{self.name} has {self.calories} calories\"\n",
    "    def __len__(self):\n",
    "        return self.calories"
   ]
  },
  {
   "cell_type": "code",
   "execution_count": 18,
   "id": "d464453a",
   "metadata": {},
   "outputs": [],
   "source": [
    "my_fruit = Fruits(\"Banana\", 100)"
   ]
  },
  {
   "cell_type": "code",
   "execution_count": 19,
   "id": "bae5c4e7",
   "metadata": {},
   "outputs": [
    {
     "data": {
      "text/plain": [
       "100"
      ]
     },
     "execution_count": 19,
     "metadata": {},
     "output_type": "execute_result"
    }
   ],
   "source": [
    "my_fruit.calories"
   ]
  },
  {
   "cell_type": "code",
   "execution_count": 20,
   "id": "d8089d71",
   "metadata": {},
   "outputs": [
    {
     "name": "stdout",
     "output_type": "stream",
     "text": [
      "Banana has 100 calories\n"
     ]
    }
   ],
   "source": [
    "print(my_fruit)"
   ]
  },
  {
   "cell_type": "code",
   "execution_count": 21,
   "id": "c5bb0b8c",
   "metadata": {},
   "outputs": [
    {
     "data": {
      "text/plain": [
       "100"
      ]
     },
     "execution_count": 21,
     "metadata": {},
     "output_type": "execute_result"
    }
   ],
   "source": [
    "len(my_fruit)"
   ]
  },
  {
   "cell_type": "code",
   "execution_count": 22,
   "id": "ee366e87",
   "metadata": {},
   "outputs": [
    {
     "data": {
      "text/plain": [
       "'Banana has 100 calories'"
      ]
     },
     "execution_count": 22,
     "metadata": {},
     "output_type": "execute_result"
    }
   ],
   "source": [
    "str(my_fruit)"
   ]
  },
  {
   "cell_type": "code",
   "execution_count": null,
   "id": "7b25802f",
   "metadata": {},
   "outputs": [],
   "source": []
  }
 ],
 "metadata": {
  "kernelspec": {
   "display_name": "Python 3",
   "language": "python",
   "name": "python3"
  },
  "language_info": {
   "codemirror_mode": {
    "name": "ipython",
    "version": 3
   },
   "file_extension": ".py",
   "mimetype": "text/x-python",
   "name": "python",
   "nbconvert_exporter": "python",
   "pygments_lexer": "ipython3",
   "version": "3.8.8"
  }
 },
 "nbformat": 4,
 "nbformat_minor": 5
}
