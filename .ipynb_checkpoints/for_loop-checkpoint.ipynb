{
 "cells": [
  {
   "cell_type": "code",
   "execution_count": 1,
   "id": "db3da4ef",
   "metadata": {},
   "outputs": [],
   "source": [
    "my_list = [1,2,3,4,5]"
   ]
  },
  {
   "cell_type": "code",
   "execution_count": 3,
   "id": "49ec59cc",
   "metadata": {},
   "outputs": [
    {
     "name": "stdout",
     "output_type": "stream",
     "text": [
      "1\n",
      "2\n",
      "3\n",
      "4\n",
      "5\n"
     ]
    }
   ],
   "source": [
    "for number in my_list:\n",
    "    print(number)"
   ]
  },
  {
   "cell_type": "code",
   "execution_count": 4,
   "id": "295fe7b3",
   "metadata": {},
   "outputs": [
    {
     "name": "stdout",
     "output_type": "stream",
     "text": [
      "5\n",
      "10\n",
      "15\n",
      "20\n",
      "25\n"
     ]
    }
   ],
   "source": [
    "for item in my_list:\n",
    "    new_number = item * 5\n",
    "    print(new_number)\n",
    "    "
   ]
  },
  {
   "cell_type": "code",
   "execution_count": 5,
   "id": "616448c2",
   "metadata": {},
   "outputs": [
    {
     "name": "stdout",
     "output_type": "stream",
     "text": [
      "2\n",
      "4\n"
     ]
    }
   ],
   "source": [
    "for number in my_list:\n",
    "    if number % 2 == 0:\n",
    "        print(number)"
   ]
  },
  {
   "cell_type": "code",
   "execution_count": 13,
   "id": "06bc1354",
   "metadata": {},
   "outputs": [
    {
     "name": "stdout",
     "output_type": "stream",
     "text": [
      "2\n"
     ]
    }
   ],
   "source": [
    "for num in my_list:\n",
    "    if num ==2:\n",
    "        print(num)"
   ]
  },
  {
   "cell_type": "code",
   "execution_count": 14,
   "id": "92505bb4",
   "metadata": {},
   "outputs": [],
   "source": [
    "my_string = \"James Hetfield\""
   ]
  },
  {
   "cell_type": "code",
   "execution_count": 15,
   "id": "cf85d254",
   "metadata": {},
   "outputs": [
    {
     "name": "stdout",
     "output_type": "stream",
     "text": [
      "J\n",
      "a\n",
      "m\n",
      "e\n",
      "s\n",
      " \n",
      "H\n",
      "e\n",
      "t\n",
      "f\n",
      "i\n",
      "e\n",
      "l\n",
      "d\n"
     ]
    }
   ],
   "source": [
    "for letter in my_string:\n",
    "    print(letter)"
   ]
  },
  {
   "cell_type": "code",
   "execution_count": 16,
   "id": "7f738708",
   "metadata": {},
   "outputs": [],
   "source": [
    "my_tuple = (1,2,3)"
   ]
  },
  {
   "cell_type": "code",
   "execution_count": 18,
   "id": "979cb154",
   "metadata": {},
   "outputs": [
    {
     "name": "stdout",
     "output_type": "stream",
     "text": [
      "-5\n",
      "0\n",
      "5\n"
     ]
    }
   ],
   "source": [
    "for item in my_tuple:\n",
    "    print(item * 5 - 10)"
   ]
  },
  {
   "cell_type": "code",
   "execution_count": 19,
   "id": "38a3ab5d",
   "metadata": {},
   "outputs": [],
   "source": [
    "my_new_list = [(\"a\",\"b\"),(\"c\",\"d\"),(\"e\",\"f\"),(\"g\",\"h\")]"
   ]
  },
  {
   "cell_type": "code",
   "execution_count": 20,
   "id": "a4fb0fbe",
   "metadata": {},
   "outputs": [
    {
     "name": "stdout",
     "output_type": "stream",
     "text": [
      "('a', 'b')\n",
      "('c', 'd')\n",
      "('e', 'f')\n",
      "('g', 'h')\n"
     ]
    }
   ],
   "source": [
    "for element in my_new_list:\n",
    "    print(element)"
   ]
  },
  {
   "cell_type": "code",
   "execution_count": 21,
   "id": "44bd7efd",
   "metadata": {},
   "outputs": [
    {
     "name": "stdout",
     "output_type": "stream",
     "text": [
      "a\n",
      "c\n",
      "e\n",
      "g\n"
     ]
    }
   ],
   "source": [
    "for (x,y) in my_new_list:\n",
    "    print(x)\n",
    "    "
   ]
  },
  {
   "cell_type": "code",
   "execution_count": 22,
   "id": "117cfe8a",
   "metadata": {},
   "outputs": [
    {
     "name": "stdout",
     "output_type": "stream",
     "text": [
      "b\n",
      "d\n",
      "f\n",
      "h\n"
     ]
    }
   ],
   "source": [
    "for (x,y) in my_new_list:\n",
    "    print(y)"
   ]
  },
  {
   "cell_type": "code",
   "execution_count": 23,
   "id": "87e9596a",
   "metadata": {},
   "outputs": [],
   "source": [
    "my_tuple_list = [(0,1,2),(3,4,5),(6,7,8)]"
   ]
  },
  {
   "cell_type": "code",
   "execution_count": 24,
   "id": "bd0dc45b",
   "metadata": {},
   "outputs": [
    {
     "name": "stdout",
     "output_type": "stream",
     "text": [
      "2\n",
      "5\n",
      "8\n"
     ]
    }
   ],
   "source": [
    "for (x,y,z) in my_tuple_list:\n",
    "    print(z)"
   ]
  },
  {
   "cell_type": "code",
   "execution_count": 25,
   "id": "cfe84eba",
   "metadata": {},
   "outputs": [],
   "source": [
    "my_dictionary = {\"key1\": 100, \"key2\": 200, \"key3\": 300}"
   ]
  },
  {
   "cell_type": "code",
   "execution_count": 28,
   "id": "123c31b1",
   "metadata": {},
   "outputs": [
    {
     "name": "stdout",
     "output_type": "stream",
     "text": [
      "100\n",
      "200\n",
      "300\n"
     ]
    }
   ],
   "source": [
    "for a,b in my_dictionary.items():\n",
    "    print(b)"
   ]
  }
 ],
 "metadata": {
  "kernelspec": {
   "display_name": "Python 3",
   "language": "python",
   "name": "python3"
  },
  "language_info": {
   "codemirror_mode": {
    "name": "ipython",
    "version": 3
   },
   "file_extension": ".py",
   "mimetype": "text/x-python",
   "name": "python",
   "nbconvert_exporter": "python",
   "pygments_lexer": "ipython3",
   "version": "3.8.8"
  }
 },
 "nbformat": 4,
 "nbformat_minor": 5
}
