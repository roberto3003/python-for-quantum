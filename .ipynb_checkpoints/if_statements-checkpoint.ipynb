{
 "cells": [
  {
   "cell_type": "code",
   "execution_count": 2,
   "id": "793a2d66",
   "metadata": {},
   "outputs": [
    {
     "name": "stdout",
     "output_type": "stream",
     "text": [
      "3 is greater than 2\n",
      "3 2 1\n"
     ]
    }
   ],
   "source": [
    "if 3 > 2 : \n",
    "    print(\"3 is greater than 2\")\n",
    "    print(\"3 2 1\")"
   ]
  },
  {
   "cell_type": "code",
   "execution_count": 3,
   "id": "2a5c20b6",
   "metadata": {},
   "outputs": [],
   "source": [
    "x = 5"
   ]
  },
  {
   "cell_type": "code",
   "execution_count": 4,
   "id": "6b841022",
   "metadata": {},
   "outputs": [],
   "source": [
    "y = 4"
   ]
  },
  {
   "cell_type": "code",
   "execution_count": 10,
   "id": "ba593815",
   "metadata": {},
   "outputs": [
    {
     "name": "stdout",
     "output_type": "stream",
     "text": [
      "y is greater\n"
     ]
    }
   ],
   "source": [
    "if y > x:\n",
    "    print (\"x is greater\")\n",
    "elif x == y:\n",
    "    print (\"x is equalt to y\")\n",
    "else:\n",
    "    print (\"y is greater\")"
   ]
  },
  {
   "cell_type": "code",
   "execution_count": 11,
   "id": "6c751464",
   "metadata": {},
   "outputs": [
    {
     "name": "stdout",
     "output_type": "stream",
     "text": [
      "superhero: Batman\n"
     ]
    }
   ],
   "source": [
    "my_superhero = input(\"superhero: \")"
   ]
  },
  {
   "cell_type": "code",
   "execution_count": 12,
   "id": "8992b51e",
   "metadata": {},
   "outputs": [
    {
     "name": "stdout",
     "output_type": "stream",
     "text": [
      "Batman\n"
     ]
    }
   ],
   "source": [
    "if my_superhero == 'Batman':\n",
    "    print('Batman')\n",
    "elif my_superhero == 'Superman':\n",
    "    print('Superman')\n",
    "else:\n",
    "    print:(\":(\")"
   ]
  },
  {
   "cell_type": "code",
   "execution_count": 13,
   "id": "5813400e",
   "metadata": {},
   "outputs": [],
   "source": [
    "a = 10"
   ]
  },
  {
   "cell_type": "code",
   "execution_count": 14,
   "id": "5c6ea76e",
   "metadata": {},
   "outputs": [],
   "source": [
    "b = 15"
   ]
  },
  {
   "cell_type": "code",
   "execution_count": 15,
   "id": "2fa157a0",
   "metadata": {},
   "outputs": [],
   "source": [
    "c = 20"
   ]
  },
  {
   "cell_type": "code",
   "execution_count": 19,
   "id": "882585f6",
   "metadata": {},
   "outputs": [
    {
     "name": "stdout",
     "output_type": "stream",
     "text": [
      "TRUE\n"
     ]
    }
   ],
   "source": [
    "if a > b or b < c:\n",
    "    print(\"TRUE\")\n",
    "elif a < b and b > c:\n",
    "    print(\"FALSE\")\n",
    "else:\n",
    "    print(\"??\")"
   ]
  },
  {
   "cell_type": "code",
   "execution_count": 21,
   "id": "43859a78",
   "metadata": {},
   "outputs": [],
   "source": [
    "isDead = False"
   ]
  },
  {
   "cell_type": "code",
   "execution_count": 23,
   "id": "bd159c2c",
   "metadata": {},
   "outputs": [
    {
     "name": "stdout",
     "output_type": "stream",
     "text": [
      "character is alive\n"
     ]
    }
   ],
   "source": [
    "if isDead:\n",
    "    print(\"character is dead\")\n",
    "else:\n",
    "    print(\"character is alive\")"
   ]
  },
  {
   "cell_type": "code",
   "execution_count": 24,
   "id": "73a28711",
   "metadata": {},
   "outputs": [
    {
     "name": "stdout",
     "output_type": "stream",
     "text": [
      "character is alive\n"
     ]
    }
   ],
   "source": [
    "if not isDead:\n",
    "    print(\"character is alive\")"
   ]
  },
  {
   "cell_type": "code",
   "execution_count": 25,
   "id": "caaecff7",
   "metadata": {},
   "outputs": [],
   "source": [
    "my_string = \"Hello, World\""
   ]
  },
  {
   "cell_type": "code",
   "execution_count": 29,
   "id": "18d5293f",
   "metadata": {},
   "outputs": [
    {
     "name": "stdout",
     "output_type": "stream",
     "text": [
      "not equal\n"
     ]
    }
   ],
   "source": [
    "if my_string == \"hello, world\":\n",
    "    print(\"equal\")\n",
    "else:\n",
    "    print(\"not equal\")"
   ]
  },
  {
   "cell_type": "code",
   "execution_count": 31,
   "id": "cd9fdb22",
   "metadata": {},
   "outputs": [
    {
     "name": "stdout",
     "output_type": "stream",
     "text": [
      "true\n"
     ]
    }
   ],
   "source": [
    "if \"Hello\" in my_string:\n",
    "    print(\"true\")\n",
    "else:\n",
    "    print(\"false\")"
   ]
  },
  {
   "cell_type": "code",
   "execution_count": 32,
   "id": "a1ca0b5e",
   "metadata": {},
   "outputs": [],
   "source": [
    "my_list = [1,2,3,4,5]"
   ]
  },
  {
   "cell_type": "code",
   "execution_count": 33,
   "id": "5da8a7dd",
   "metadata": {},
   "outputs": [
    {
     "name": "stdout",
     "output_type": "stream",
     "text": [
      "true\n"
     ]
    }
   ],
   "source": [
    "if 2 in my_list:\n",
    "    print(\"true\")\n",
    "else:\n",
    "    print(\"false\")"
   ]
  },
  {
   "cell_type": "code",
   "execution_count": 34,
   "id": "84136b9b",
   "metadata": {},
   "outputs": [],
   "source": [
    "my_dictionary = {\"k1\":100, \"k2\":200}"
   ]
  },
  {
   "cell_type": "code",
   "execution_count": 35,
   "id": "b14a6257",
   "metadata": {},
   "outputs": [
    {
     "name": "stdout",
     "output_type": "stream",
     "text": [
      "true\n"
     ]
    }
   ],
   "source": [
    "if 100 in my_dictionary.values():\n",
    "    print(\"true\")\n",
    "else:\n",
    "    print(\"false\")"
   ]
  }
 ],
 "metadata": {
  "kernelspec": {
   "display_name": "Python 3",
   "language": "python",
   "name": "python3"
  },
  "language_info": {
   "codemirror_mode": {
    "name": "ipython",
    "version": 3
   },
   "file_extension": ".py",
   "mimetype": "text/x-python",
   "name": "python",
   "nbconvert_exporter": "python",
   "pygments_lexer": "ipython3",
   "version": "3.8.8"
  }
 },
 "nbformat": 4,
 "nbformat_minor": 5
}
