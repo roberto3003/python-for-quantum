{
 "cells": [
  {
   "cell_type": "code",
   "execution_count": 1,
   "id": "831bc31e",
   "metadata": {},
   "outputs": [],
   "source": [
    "## Strings are immutable. List are mutable"
   ]
  },
  {
   "cell_type": "code",
   "execution_count": 2,
   "id": "ecda891b",
   "metadata": {},
   "outputs": [],
   "source": [
    "my_list = [1,2,3]"
   ]
  },
  {
   "cell_type": "code",
   "execution_count": 3,
   "id": "6ccd9c91",
   "metadata": {},
   "outputs": [
    {
     "data": {
      "text/plain": [
       "1"
      ]
     },
     "execution_count": 3,
     "metadata": {},
     "output_type": "execute_result"
    }
   ],
   "source": [
    "my_list[0]"
   ]
  },
  {
   "cell_type": "code",
   "execution_count": 4,
   "id": "44fe3f9f",
   "metadata": {},
   "outputs": [],
   "source": [
    "my_list[0] = 5"
   ]
  },
  {
   "cell_type": "code",
   "execution_count": 5,
   "id": "ff4c7810",
   "metadata": {},
   "outputs": [
    {
     "data": {
      "text/plain": [
       "[5, 2, 3]"
      ]
     },
     "execution_count": 5,
     "metadata": {},
     "output_type": "execute_result"
    }
   ],
   "source": [
    "my_list"
   ]
  },
  {
   "cell_type": "code",
   "execution_count": 6,
   "id": "c6fd618d",
   "metadata": {},
   "outputs": [],
   "source": [
    "my_list.append(4)"
   ]
  },
  {
   "cell_type": "code",
   "execution_count": 7,
   "id": "e11d5a23",
   "metadata": {},
   "outputs": [
    {
     "data": {
      "text/plain": [
       "[5, 2, 3, 4]"
      ]
     },
     "execution_count": 7,
     "metadata": {},
     "output_type": "execute_result"
    }
   ],
   "source": [
    "my_list"
   ]
  },
  {
   "cell_type": "code",
   "execution_count": 8,
   "id": "805edd28",
   "metadata": {},
   "outputs": [
    {
     "data": {
      "text/plain": [
       "4"
      ]
     },
     "execution_count": 8,
     "metadata": {},
     "output_type": "execute_result"
    }
   ],
   "source": [
    "my_list.pop()"
   ]
  },
  {
   "cell_type": "code",
   "execution_count": 9,
   "id": "d4d586e2",
   "metadata": {},
   "outputs": [
    {
     "data": {
      "text/plain": [
       "[5, 2, 3]"
      ]
     },
     "execution_count": 9,
     "metadata": {},
     "output_type": "execute_result"
    }
   ],
   "source": [
    "my_list"
   ]
  },
  {
   "cell_type": "code",
   "execution_count": 10,
   "id": "9d732766",
   "metadata": {},
   "outputs": [],
   "source": [
    "my_mixed_list = [1,2,\"a\",\"bhf\"]"
   ]
  },
  {
   "cell_type": "code",
   "execution_count": 11,
   "id": "8818b1b2",
   "metadata": {},
   "outputs": [
    {
     "data": {
      "text/plain": [
       "[1, 2, 'a', 'bhf']"
      ]
     },
     "execution_count": 11,
     "metadata": {},
     "output_type": "execute_result"
    }
   ],
   "source": [
    "my_mixed_list"
   ]
  },
  {
   "cell_type": "code",
   "execution_count": 12,
   "id": "6189622d",
   "metadata": {},
   "outputs": [
    {
     "data": {
      "text/plain": [
       "'bhf'"
      ]
     },
     "execution_count": 12,
     "metadata": {},
     "output_type": "execute_result"
    }
   ],
   "source": [
    "my_mixed_list[-1]"
   ]
  },
  {
   "cell_type": "code",
   "execution_count": 13,
   "id": "648dea30",
   "metadata": {},
   "outputs": [],
   "source": [
    "my_list_1 = ['a', 'b', 'c']"
   ]
  },
  {
   "cell_type": "code",
   "execution_count": 14,
   "id": "09c118ea",
   "metadata": {},
   "outputs": [],
   "source": [
    "my_list_2 = ['d', 'e', 'f']"
   ]
  },
  {
   "cell_type": "code",
   "execution_count": 15,
   "id": "789bc81e",
   "metadata": {},
   "outputs": [],
   "source": [
    "my_list_3 = my_list_1 + my_list_2"
   ]
  },
  {
   "cell_type": "code",
   "execution_count": 16,
   "id": "c9d88119",
   "metadata": {},
   "outputs": [
    {
     "data": {
      "text/plain": [
       "['a', 'b', 'c', 'd', 'e', 'f']"
      ]
     },
     "execution_count": 16,
     "metadata": {},
     "output_type": "execute_result"
    }
   ],
   "source": [
    "my_list_3"
   ]
  },
  {
   "cell_type": "code",
   "execution_count": 17,
   "id": "b91bf168",
   "metadata": {},
   "outputs": [
    {
     "data": {
      "text/plain": [
       "['a', 'b', 'c', 'a', 'b', 'c']"
      ]
     },
     "execution_count": 17,
     "metadata": {},
     "output_type": "execute_result"
    }
   ],
   "source": [
    "my_list_1 * 2"
   ]
  },
  {
   "cell_type": "code",
   "execution_count": 18,
   "id": "62b3f799",
   "metadata": {},
   "outputs": [],
   "source": [
    "my_list_2.reverse()"
   ]
  },
  {
   "cell_type": "code",
   "execution_count": 19,
   "id": "c21d73cd",
   "metadata": {},
   "outputs": [
    {
     "data": {
      "text/plain": [
       "['f', 'e', 'd']"
      ]
     },
     "execution_count": 19,
     "metadata": {},
     "output_type": "execute_result"
    }
   ],
   "source": [
    "my_list_2"
   ]
  },
  {
   "cell_type": "markdown",
   "id": "7b97e0b3",
   "metadata": {},
   "source": [
    "##Nested lists"
   ]
  },
  {
   "cell_type": "code",
   "execution_count": 20,
   "id": "ead4bcb7",
   "metadata": {},
   "outputs": [],
   "source": [
    "new_list = [1,4,\"a\"]"
   ]
  },
  {
   "cell_type": "code",
   "execution_count": 21,
   "id": "c1ee48b2",
   "metadata": {},
   "outputs": [],
   "source": [
    "new_list = [1,4,\"a\", [3,\"c\"]]"
   ]
  },
  {
   "cell_type": "code",
   "execution_count": 22,
   "id": "70ec2e86",
   "metadata": {},
   "outputs": [
    {
     "data": {
      "text/plain": [
       "[3, 'c']"
      ]
     },
     "execution_count": 22,
     "metadata": {},
     "output_type": "execute_result"
    }
   ],
   "source": [
    "new_list[3]"
   ]
  },
  {
   "cell_type": "code",
   "execution_count": 26,
   "id": "928e833e",
   "metadata": {},
   "outputs": [
    {
     "data": {
      "text/plain": [
       "'c'"
      ]
     },
     "execution_count": 26,
     "metadata": {},
     "output_type": "execute_result"
    }
   ],
   "source": [
    "new_list[3][1]"
   ]
  },
  {
   "cell_type": "code",
   "execution_count": 27,
   "id": "38f6132a",
   "metadata": {},
   "outputs": [
    {
     "data": {
      "text/plain": [
       "['a', [3, 'c']]"
      ]
     },
     "execution_count": 27,
     "metadata": {},
     "output_type": "execute_result"
    }
   ],
   "source": [
    "new_list[2:]"
   ]
  },
  {
   "cell_type": "code",
   "execution_count": 28,
   "id": "90950ba5",
   "metadata": {},
   "outputs": [
    {
     "data": {
      "text/plain": [
       "[1, 4]"
      ]
     },
     "execution_count": 28,
     "metadata": {},
     "output_type": "execute_result"
    }
   ],
   "source": [
    "new_list[:2]"
   ]
  }
 ],
 "metadata": {
  "kernelspec": {
   "display_name": "Python 3",
   "language": "python",
   "name": "python3"
  },
  "language_info": {
   "codemirror_mode": {
    "name": "ipython",
    "version": 3
   },
   "file_extension": ".py",
   "mimetype": "text/x-python",
   "name": "python",
   "nbconvert_exporter": "python",
   "pygments_lexer": "ipython3",
   "version": "3.8.8"
  }
 },
 "nbformat": 4,
 "nbformat_minor": 5
}
