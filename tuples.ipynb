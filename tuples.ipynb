{
 "cells": [
  {
   "cell_type": "markdown",
   "id": "03079527",
   "metadata": {},
   "source": [
    "##Tuples are like lists but they are immutable"
   ]
  },
  {
   "cell_type": "code",
   "execution_count": 4,
   "id": "97d55592",
   "metadata": {},
   "outputs": [],
   "source": [
    "my_tuple = (\"a\", 1, \"c\")"
   ]
  },
  {
   "cell_type": "code",
   "execution_count": 6,
   "id": "f5658e6c",
   "metadata": {},
   "outputs": [],
   "source": [
    "## my_tuple[0] = \"b\" would be an error"
   ]
  },
  {
   "cell_type": "code",
   "execution_count": 10,
   "id": "0efc3375",
   "metadata": {},
   "outputs": [
    {
     "data": {
      "text/plain": [
       "1"
      ]
     },
     "execution_count": 10,
     "metadata": {},
     "output_type": "execute_result"
    }
   ],
   "source": [
    "my_tuple.count(\"a\")"
   ]
  },
  {
   "cell_type": "code",
   "execution_count": 14,
   "id": "b380c55e",
   "metadata": {},
   "outputs": [],
   "source": [
    "my_tuple_2 = (1, \"a\", \"c\", 1, 1)"
   ]
  },
  {
   "cell_type": "code",
   "execution_count": 18,
   "id": "b2f36ac8",
   "metadata": {},
   "outputs": [
    {
     "data": {
      "text/plain": [
       "3"
      ]
     },
     "execution_count": 18,
     "metadata": {},
     "output_type": "execute_result"
    }
   ],
   "source": [
    "my_tuple_2.count(1)"
   ]
  }
 ],
 "metadata": {
  "kernelspec": {
   "display_name": "Python 3",
   "language": "python",
   "name": "python3"
  },
  "language_info": {
   "codemirror_mode": {
    "name": "ipython",
    "version": 3
   },
   "file_extension": ".py",
   "mimetype": "text/x-python",
   "name": "python",
   "nbconvert_exporter": "python",
   "pygments_lexer": "ipython3",
   "version": "3.8.8"
  }
 },
 "nbformat": 4,
 "nbformat_minor": 5
}
