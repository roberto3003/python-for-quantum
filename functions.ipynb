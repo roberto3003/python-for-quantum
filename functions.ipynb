{
 "cells": [
  {
   "cell_type": "code",
   "execution_count": 1,
   "id": "3018ab43",
   "metadata": {},
   "outputs": [],
   "source": [
    "my_string = \"Bob\""
   ]
  },
  {
   "cell_type": "code",
   "execution_count": 2,
   "id": "abc43252",
   "metadata": {},
   "outputs": [],
   "source": [
    "my_string_lower = my_string.lower()"
   ]
  },
  {
   "cell_type": "code",
   "execution_count": 3,
   "id": "e8d54985",
   "metadata": {},
   "outputs": [
    {
     "data": {
      "text/plain": [
       "'bob'"
      ]
     },
     "execution_count": 3,
     "metadata": {},
     "output_type": "execute_result"
    }
   ],
   "source": [
    "my_string_lower"
   ]
  },
  {
   "cell_type": "code",
   "execution_count": 4,
   "id": "e8ac8339",
   "metadata": {},
   "outputs": [
    {
     "name": "stdout",
     "output_type": "stream",
     "text": [
      "Help on built-in function split:\n",
      "\n",
      "split(sep=None, maxsplit=-1) method of builtins.str instance\n",
      "    Return a list of the words in the string, using sep as the delimiter string.\n",
      "    \n",
      "    sep\n",
      "      The delimiter according which to split the string.\n",
      "      None (the default value) means split according to any whitespace,\n",
      "      and discard empty strings from the result.\n",
      "    maxsplit\n",
      "      Maximum number of splits to do.\n",
      "      -1 (the default value) means no limit.\n",
      "\n"
     ]
    }
   ],
   "source": [
    "help(my_string.split)"
   ]
  },
  {
   "cell_type": "code",
   "execution_count": 5,
   "id": "6a80fd5c",
   "metadata": {},
   "outputs": [],
   "source": [
    "def hello_world():\n",
    "    print(\"hello\")\n",
    "    print(\"world\")"
   ]
  },
  {
   "cell_type": "code",
   "execution_count": 6,
   "id": "ae0eb791",
   "metadata": {},
   "outputs": [
    {
     "data": {
      "text/plain": [
       "<function __main__.hello_world()>"
      ]
     },
     "execution_count": 6,
     "metadata": {},
     "output_type": "execute_result"
    }
   ],
   "source": [
    "hello_world"
   ]
  },
  {
   "cell_type": "code",
   "execution_count": 7,
   "id": "da372a61",
   "metadata": {},
   "outputs": [
    {
     "name": "stdout",
     "output_type": "stream",
     "text": [
      "hello\n",
      "world\n"
     ]
    }
   ],
   "source": [
    "hello_world()"
   ]
  },
  {
   "cell_type": "markdown",
   "id": "f6bfdf91",
   "metadata": {},
   "source": [
    "## input & return"
   ]
  },
  {
   "cell_type": "code",
   "execution_count": 8,
   "id": "3bc18fde",
   "metadata": {},
   "outputs": [],
   "source": [
    "def hello_programming(program=\"python\"):\n",
    "    print(\"hello\")\n",
    "    print(program)"
   ]
  },
  {
   "cell_type": "code",
   "execution_count": 9,
   "id": "a564636a",
   "metadata": {},
   "outputs": [
    {
     "name": "stdout",
     "output_type": "stream",
     "text": [
      "hello\n",
      "java\n"
     ]
    }
   ],
   "source": [
    "hello_programming(\"java\")"
   ]
  },
  {
   "cell_type": "code",
   "execution_count": 10,
   "id": "bcb3ae43",
   "metadata": {},
   "outputs": [
    {
     "name": "stdout",
     "output_type": "stream",
     "text": [
      "hello\n",
      "python\n"
     ]
    }
   ],
   "source": [
    "hello_programming()"
   ]
  },
  {
   "cell_type": "code",
   "execution_count": 11,
   "id": "20bdcaab",
   "metadata": {},
   "outputs": [
    {
     "ename": "NameError",
     "evalue": "name 'my_result' is not defined",
     "output_type": "error",
     "traceback": [
      "\u001b[0;31m---------------------------------------------------------------------------\u001b[0m",
      "\u001b[0;31mNameError\u001b[0m                                 Traceback (most recent call last)",
      "\u001b[0;32m<ipython-input-11-77437571f1cc>\u001b[0m in \u001b[0;36m<module>\u001b[0;34m\u001b[0m\n\u001b[0;32m----> 1\u001b[0;31m \u001b[0mmy_result\u001b[0m\u001b[0;34m\u001b[0m\u001b[0;34m\u001b[0m\u001b[0m\n\u001b[0m",
      "\u001b[0;31mNameError\u001b[0m: name 'my_result' is not defined"
     ]
    }
   ],
   "source": [
    "my_result"
   ]
  },
  {
   "cell_type": "code",
   "execution_count": null,
   "id": "8eb3a961",
   "metadata": {},
   "outputs": [],
   "source": [
    "def control_string(s):\n",
    "        if s[0] == \"m\":\n",
    "            print(s.capitalize())"
   ]
  },
  {
   "cell_type": "code",
   "execution_count": null,
   "id": "caeff315",
   "metadata": {},
   "outputs": [],
   "source": [
    "control_string(\"metallica\")"
   ]
  },
  {
   "cell_type": "markdown",
   "id": "0841e537",
   "metadata": {},
   "source": [
    "## arbitrary arguments & keyword arguments"
   ]
  },
  {
   "cell_type": "code",
   "execution_count": null,
   "id": "61d2dfa5",
   "metadata": {},
   "outputs": [],
   "source": [
    "def addition(*numbers):\n",
    "    return sum(numbers)"
   ]
  },
  {
   "cell_type": "code",
   "execution_count": null,
   "id": "dc782bfa",
   "metadata": {},
   "outputs": [],
   "source": [
    "addition(2,3)"
   ]
  },
  {
   "cell_type": "code",
   "execution_count": null,
   "id": "127fe496",
   "metadata": {},
   "outputs": [],
   "source": [
    "addition(3,4,5)"
   ]
  },
  {
   "cell_type": "code",
   "execution_count": null,
   "id": "68dabcc1",
   "metadata": {},
   "outputs": [],
   "source": [
    "def exercising(**sports):\n",
    "    print(sports)"
   ]
  },
  {
   "cell_type": "code",
   "execution_count": null,
   "id": "05a8157f",
   "metadata": {},
   "outputs": [],
   "source": [
    "exercising(run=100,swim=200,basketball=300)"
   ]
  },
  {
   "cell_type": "code",
   "execution_count": null,
   "id": "a2046983",
   "metadata": {},
   "outputs": [],
   "source": [
    "def half(n):\n",
    "    return n/2"
   ]
  },
  {
   "cell_type": "code",
   "execution_count": null,
   "id": "fbdaf690",
   "metadata": {},
   "outputs": [],
   "source": [
    "half(10)"
   ]
  },
  {
   "cell_type": "code",
   "execution_count": null,
   "id": "8a9b6575",
   "metadata": {},
   "outputs": [],
   "source": [
    "my_list = [1,2,3,4,5,6]"
   ]
  },
  {
   "cell_type": "code",
   "execution_count": null,
   "id": "ce09fa2b",
   "metadata": {},
   "outputs": [],
   "source": [
    "for num in my_list:\n",
    "    print(half(num))"
   ]
  },
  {
   "cell_type": "markdown",
   "id": "70534391",
   "metadata": {},
   "source": [
    "## map"
   ]
  },
  {
   "cell_type": "code",
   "execution_count": null,
   "id": "3904ace1",
   "metadata": {},
   "outputs": [],
   "source": [
    "list(map(half, my_list))"
   ]
  },
  {
   "cell_type": "markdown",
   "id": "ae817a6e",
   "metadata": {},
   "source": [
    "## filter"
   ]
  },
  {
   "cell_type": "code",
   "execution_count": null,
   "id": "24c20fa8",
   "metadata": {},
   "outputs": [],
   "source": [
    "my_artist_list = [\"Metallica\", \"Madonna\", \"Queen\", \"Metallica2\"]"
   ]
  },
  {
   "cell_type": "code",
   "execution_count": null,
   "id": "8babeae1",
   "metadata": {},
   "outputs": [],
   "source": [
    "def control_string(string):\n",
    "    return \"Metallica\" in string"
   ]
  },
  {
   "cell_type": "code",
   "execution_count": null,
   "id": "3ac4c999",
   "metadata": {},
   "outputs": [],
   "source": [
    "list(filter(control_string, my_artist_list))"
   ]
  },
  {
   "cell_type": "markdown",
   "id": "b62b8164",
   "metadata": {},
   "source": [
    "## scope"
   ]
  },
  {
   "cell_type": "code",
   "execution_count": null,
   "id": "d4f70043",
   "metadata": {},
   "outputs": [],
   "source": [
    "# LEGB\n",
    "# Local\n",
    "# Enclosing\n",
    "# Global\n",
    "# Built-in"
   ]
  },
  {
   "cell_type": "code",
   "execution_count": null,
   "id": "ac593e11",
   "metadata": {},
   "outputs": [],
   "source": [
    "number = 10\n",
    "# Global"
   ]
  },
  {
   "cell_type": "code",
   "execution_count": 13,
   "id": "c87e779d",
   "metadata": {},
   "outputs": [],
   "source": [
    "def my_function(num):\n",
    "    number = 5\n",
    "    # enclosing\n",
    "    return num * number\n",
    "    def my_function_2(num):\n",
    "        number = 2\n",
    "        # local\n",
    "        return num / number"
   ]
  },
  {
   "cell_type": "code",
   "execution_count": 14,
   "id": "c5bf98ed",
   "metadata": {},
   "outputs": [
    {
     "data": {
      "text/plain": [
       "50"
      ]
     },
     "execution_count": 14,
     "metadata": {},
     "output_type": "execute_result"
    }
   ],
   "source": [
    "my_function(10)"
   ]
  }
 ],
 "metadata": {
  "kernelspec": {
   "display_name": "Python 3",
   "language": "python",
   "name": "python3"
  },
  "language_info": {
   "codemirror_mode": {
    "name": "ipython",
    "version": 3
   },
   "file_extension": ".py",
   "mimetype": "text/x-python",
   "name": "python",
   "nbconvert_exporter": "python",
   "pygments_lexer": "ipython3",
   "version": "3.8.8"
  }
 },
 "nbformat": 4,
 "nbformat_minor": 5
}
