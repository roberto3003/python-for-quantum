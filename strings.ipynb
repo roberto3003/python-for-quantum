{
 "cells": [
  {
   "cell_type": "code",
   "execution_count": 1,
   "id": "01f1dd22",
   "metadata": {},
   "outputs": [
    {
     "data": {
      "text/plain": [
       "'Hello, World'"
      ]
     },
     "execution_count": 1,
     "metadata": {},
     "output_type": "execute_result"
    }
   ],
   "source": [
    "\"Hello, World\""
   ]
  },
  {
   "cell_type": "code",
   "execution_count": 2,
   "id": "c76e2468",
   "metadata": {},
   "outputs": [
    {
     "data": {
      "text/plain": [
       "\"I'm a pilot\""
      ]
     },
     "execution_count": 2,
     "metadata": {},
     "output_type": "execute_result"
    }
   ],
   "source": [
    "\"I'm a pilot\""
   ]
  },
  {
   "cell_type": "code",
   "execution_count": 3,
   "id": "c454fb40",
   "metadata": {},
   "outputs": [
    {
     "data": {
      "text/plain": [
       "\"I'm a pilot\""
      ]
     },
     "execution_count": 3,
     "metadata": {},
     "output_type": "execute_result"
    }
   ],
   "source": [
    "'I\\'m a pilot'"
   ]
  },
  {
   "cell_type": "code",
   "execution_count": 4,
   "id": "d2c46fca",
   "metadata": {},
   "outputs": [],
   "source": [
    "x = \"Hello, World!\""
   ]
  },
  {
   "cell_type": "code",
   "execution_count": 5,
   "id": "b7d39f15",
   "metadata": {},
   "outputs": [
    {
     "data": {
      "text/plain": [
       "'Hello, World!'"
      ]
     },
     "execution_count": 5,
     "metadata": {},
     "output_type": "execute_result"
    }
   ],
   "source": [
    "x"
   ]
  },
  {
   "cell_type": "code",
   "execution_count": 6,
   "id": "85734953",
   "metadata": {},
   "outputs": [],
   "source": [
    "x = \"Hello\""
   ]
  },
  {
   "cell_type": "code",
   "execution_count": 7,
   "id": "6ff30f4d",
   "metadata": {},
   "outputs": [
    {
     "data": {
      "text/plain": [
       "'Hello'"
      ]
     },
     "execution_count": 7,
     "metadata": {},
     "output_type": "execute_result"
    }
   ],
   "source": [
    "x"
   ]
  },
  {
   "cell_type": "code",
   "execution_count": 8,
   "id": "dcd8dfee",
   "metadata": {},
   "outputs": [],
   "source": [
    "x = 3"
   ]
  },
  {
   "cell_type": "code",
   "execution_count": 9,
   "id": "9f69c658",
   "metadata": {},
   "outputs": [
    {
     "data": {
      "text/plain": [
       "3"
      ]
     },
     "execution_count": 9,
     "metadata": {},
     "output_type": "execute_result"
    }
   ],
   "source": [
    "x"
   ]
  },
  {
   "cell_type": "code",
   "execution_count": 11,
   "id": "2dca9618",
   "metadata": {},
   "outputs": [],
   "source": [
    "x = \"World\""
   ]
  },
  {
   "cell_type": "code",
   "execution_count": 12,
   "id": "20f55162",
   "metadata": {},
   "outputs": [
    {
     "data": {
      "text/plain": [
       "5"
      ]
     },
     "execution_count": 12,
     "metadata": {},
     "output_type": "execute_result"
    }
   ],
   "source": [
    "len(x)"
   ]
  },
  {
   "cell_type": "code",
   "execution_count": 13,
   "id": "b6017507",
   "metadata": {},
   "outputs": [
    {
     "name": "stdout",
     "output_type": "stream",
     "text": [
      "World\n"
     ]
    }
   ],
   "source": [
    "print(x)"
   ]
  },
  {
   "cell_type": "markdown",
   "id": "ccea6c1d",
   "metadata": {},
   "source": [
    "Escape characters"
   ]
  },
  {
   "cell_type": "code",
   "execution_count": 14,
   "id": "469365ae",
   "metadata": {},
   "outputs": [
    {
     "name": "stdout",
     "output_type": "stream",
     "text": [
      "Hello Python\n"
     ]
    }
   ],
   "source": [
    "print(\"Hello Python\")"
   ]
  },
  {
   "cell_type": "code",
   "execution_count": 23,
   "id": "d33e1a50",
   "metadata": {},
   "outputs": [
    {
     "name": "stdout",
     "output_type": "stream",
     "text": [
      "Hello \n",
      "Python\n"
     ]
    }
   ],
   "source": [
    "print(\"Hello \\nPython\")"
   ]
  },
  {
   "cell_type": "code",
   "execution_count": 24,
   "id": "3aae57a2",
   "metadata": {},
   "outputs": [
    {
     "name": "stdout",
     "output_type": "stream",
     "text": [
      "Hello \tPython\n"
     ]
    }
   ],
   "source": [
    "print(\"Hello \\tPython\")"
   ]
  },
  {
   "cell_type": "code",
   "execution_count": 25,
   "id": "0d8c78d9",
   "metadata": {},
   "outputs": [],
   "source": [
    "my_string = \"Hello, World!\""
   ]
  },
  {
   "cell_type": "code",
   "execution_count": 26,
   "id": "9534086c",
   "metadata": {},
   "outputs": [
    {
     "data": {
      "text/plain": [
       "'Hello, World!'"
      ]
     },
     "execution_count": 26,
     "metadata": {},
     "output_type": "execute_result"
    }
   ],
   "source": [
    "my_string"
   ]
  },
  {
   "cell_type": "markdown",
   "id": "0fff8a15",
   "metadata": {},
   "source": [
    "##indexing"
   ]
  },
  {
   "cell_type": "code",
   "execution_count": 27,
   "id": "b746fd1b",
   "metadata": {},
   "outputs": [
    {
     "data": {
      "text/plain": [
       "'H'"
      ]
     },
     "execution_count": 27,
     "metadata": {},
     "output_type": "execute_result"
    }
   ],
   "source": [
    "my_string[0]"
   ]
  },
  {
   "cell_type": "code",
   "execution_count": 28,
   "id": "26a302c7",
   "metadata": {},
   "outputs": [
    {
     "data": {
      "text/plain": [
       "'o'"
      ]
     },
     "execution_count": 28,
     "metadata": {},
     "output_type": "execute_result"
    }
   ],
   "source": [
    "my_string[4]"
   ]
  },
  {
   "cell_type": "code",
   "execution_count": 31,
   "id": "23f47940",
   "metadata": {},
   "outputs": [
    {
     "data": {
      "text/plain": [
       "'!'"
      ]
     },
     "execution_count": 31,
     "metadata": {},
     "output_type": "execute_result"
    }
   ],
   "source": [
    "my_string[-1]"
   ]
  },
  {
   "cell_type": "code",
   "execution_count": 39,
   "id": "ef7f61af",
   "metadata": {},
   "outputs": [],
   "source": [
    "my_string_2 = \"1234567890\""
   ]
  },
  {
   "cell_type": "code",
   "execution_count": 40,
   "id": "331f64ea",
   "metadata": {},
   "outputs": [
    {
     "data": {
      "text/plain": [
       "'1'"
      ]
     },
     "execution_count": 40,
     "metadata": {},
     "output_type": "execute_result"
    }
   ],
   "source": [
    "my_string_2[0]"
   ]
  },
  {
   "cell_type": "code",
   "execution_count": 41,
   "id": "8fa619ac",
   "metadata": {},
   "outputs": [
    {
     "data": {
      "text/plain": [
       "'234567890'"
      ]
     },
     "execution_count": 41,
     "metadata": {},
     "output_type": "execute_result"
    }
   ],
   "source": [
    "my_string_2[1:]"
   ]
  },
  {
   "cell_type": "markdown",
   "id": "b019e41d",
   "metadata": {},
   "source": [
    "##slicing"
   ]
  },
  {
   "cell_type": "markdown",
   "id": "09917d88",
   "metadata": {},
   "source": [
    "##starting index(included)[1:]; stopping index(not included)[:3]"
   ]
  },
  {
   "cell_type": "code",
   "execution_count": 46,
   "id": "14dffaff",
   "metadata": {},
   "outputs": [
    {
     "data": {
      "text/plain": [
       "'34567890'"
      ]
     },
     "execution_count": 46,
     "metadata": {},
     "output_type": "execute_result"
    }
   ],
   "source": [
    "my_string_2[2:]"
   ]
  },
  {
   "cell_type": "code",
   "execution_count": 45,
   "id": "b33229dd",
   "metadata": {},
   "outputs": [
    {
     "data": {
      "text/plain": [
       "'1234'"
      ]
     },
     "execution_count": 45,
     "metadata": {},
     "output_type": "execute_result"
    }
   ],
   "source": [
    "my_string_2[:4]"
   ]
  },
  {
   "cell_type": "code",
   "execution_count": 47,
   "id": "42290678",
   "metadata": {},
   "outputs": [
    {
     "data": {
      "text/plain": [
       "'34'"
      ]
     },
     "execution_count": 47,
     "metadata": {},
     "output_type": "execute_result"
    }
   ],
   "source": [
    "my_string_2[2:4]"
   ]
  },
  {
   "cell_type": "code",
   "execution_count": 49,
   "id": "aa870171",
   "metadata": {},
   "outputs": [
    {
     "data": {
      "text/plain": [
       "'678'"
      ]
     },
     "execution_count": 49,
     "metadata": {},
     "output_type": "execute_result"
    }
   ],
   "source": [
    "my_string_2[5:8]"
   ]
  },
  {
   "cell_type": "markdown",
   "id": "e05d8eef",
   "metadata": {},
   "source": [
    "##step size"
   ]
  },
  {
   "cell_type": "code",
   "execution_count": 50,
   "id": "01367240",
   "metadata": {},
   "outputs": [
    {
     "data": {
      "text/plain": [
       "'1234567890'"
      ]
     },
     "execution_count": 50,
     "metadata": {},
     "output_type": "execute_result"
    }
   ],
   "source": [
    "my_string_2[::]"
   ]
  },
  {
   "cell_type": "code",
   "execution_count": 52,
   "id": "f5e1d5e8",
   "metadata": {},
   "outputs": [
    {
     "data": {
      "text/plain": [
       "'1470'"
      ]
     },
     "execution_count": 52,
     "metadata": {},
     "output_type": "execute_result"
    }
   ],
   "source": [
    "my_string_2[::3] ## Skips 3 steps"
   ]
  },
  {
   "cell_type": "code",
   "execution_count": null,
   "id": "427d9e55",
   "metadata": {},
   "outputs": [],
   "source": []
  }
 ],
 "metadata": {
  "kernelspec": {
   "display_name": "Python 3",
   "language": "python",
   "name": "python3"
  },
  "language_info": {
   "codemirror_mode": {
    "name": "ipython",
    "version": 3
   },
   "file_extension": ".py",
   "mimetype": "text/x-python",
   "name": "python",
   "nbconvert_exporter": "python",
   "pygments_lexer": "ipython3",
   "version": "3.8.8"
  }
 },
 "nbformat": 4,
 "nbformat_minor": 5
}
