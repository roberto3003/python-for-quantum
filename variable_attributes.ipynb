{
 "cells": [
  {
   "cell_type": "markdown",
   "id": "fd47cef7",
   "metadata": {},
   "source": [
    "## String methods"
   ]
  },
  {
   "cell_type": "code",
   "execution_count": 2,
   "id": "f964b8a2",
   "metadata": {},
   "outputs": [],
   "source": [
    "my_name = \"roberto\""
   ]
  },
  {
   "cell_type": "code",
   "execution_count": 6,
   "id": "63dbea71",
   "metadata": {},
   "outputs": [],
   "source": [
    "my_name_capitaliezed = my_name.capitalize()"
   ]
  },
  {
   "cell_type": "code",
   "execution_count": 7,
   "id": "d9e635c6",
   "metadata": {},
   "outputs": [
    {
     "data": {
      "text/plain": [
       "'Roberto'"
      ]
     },
     "execution_count": 7,
     "metadata": {},
     "output_type": "execute_result"
    }
   ],
   "source": [
    "my_name_capitaliezed"
   ]
  },
  {
   "cell_type": "code",
   "execution_count": 9,
   "id": "eaf80f19",
   "metadata": {},
   "outputs": [],
   "source": [
    "my_name = \"Bobby Uberthinker\""
   ]
  },
  {
   "cell_type": "code",
   "execution_count": 10,
   "id": "da1de4ef",
   "metadata": {},
   "outputs": [
    {
     "data": {
      "text/plain": [
       "['Bobby', 'Uberthinker']"
      ]
     },
     "execution_count": 10,
     "metadata": {},
     "output_type": "execute_result"
    }
   ],
   "source": [
    "my_name.split() ## shift+tab to see the documentation"
   ]
  },
  {
   "cell_type": "code",
   "execution_count": 18,
   "id": "a1ca7a03",
   "metadata": {},
   "outputs": [
    {
     "data": {
      "text/plain": [
       "'james james james james '"
      ]
     },
     "execution_count": 18,
     "metadata": {},
     "output_type": "execute_result"
    }
   ],
   "source": [
    "\"james \" * 2 * 2"
   ]
  },
  {
   "cell_type": "code",
   "execution_count": 20,
   "id": "eeaf18b6",
   "metadata": {},
   "outputs": [
    {
     "data": {
      "text/plain": [
       "'james5'"
      ]
     },
     "execution_count": 20,
     "metadata": {},
     "output_type": "execute_result"
    }
   ],
   "source": [
    "\"james\" + \"5\""
   ]
  },
  {
   "cell_type": "code",
   "execution_count": 22,
   "id": "147f7bb7",
   "metadata": {},
   "outputs": [],
   "source": [
    "my_name = \"Bob\""
   ]
  },
  {
   "cell_type": "code",
   "execution_count": 23,
   "id": "8faa6cd4",
   "metadata": {},
   "outputs": [],
   "source": [
    "my_surname = \"Nobody\""
   ]
  },
  {
   "cell_type": "code",
   "execution_count": 24,
   "id": "e86a1afb",
   "metadata": {},
   "outputs": [],
   "source": [
    "my_full_name = my_name + ' ' + my_surname"
   ]
  },
  {
   "cell_type": "code",
   "execution_count": 25,
   "id": "486935d1",
   "metadata": {},
   "outputs": [
    {
     "name": "stdout",
     "output_type": "stream",
     "text": [
      "Bob Nobody\n"
     ]
    }
   ],
   "source": [
    "print(my_full_name)"
   ]
  }
 ],
 "metadata": {
  "kernelspec": {
   "display_name": "Python 3",
   "language": "python",
   "name": "python3"
  },
  "language_info": {
   "codemirror_mode": {
    "name": "ipython",
    "version": 3
   },
   "file_extension": ".py",
   "mimetype": "text/x-python",
   "name": "python",
   "nbconvert_exporter": "python",
   "pygments_lexer": "ipython3",
   "version": "3.8.8"
  }
 },
 "nbformat": 4,
 "nbformat_minor": 5
}
